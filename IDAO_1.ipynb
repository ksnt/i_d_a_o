{
  "nbformat": 4,
  "nbformat_minor": 0,
  "metadata": {
    "colab": {
      "name": "IDAO_1.ipynb",
      "version": "0.3.2",
      "provenance": [],
      "collapsed_sections": [],
      "include_colab_link": true
    },
    "kernelspec": {
      "name": "python3",
      "display_name": "Python 3"
    }
  },
  "cells": [
    {
      "cell_type": "markdown",
      "metadata": {
        "id": "view-in-github",
        "colab_type": "text"
      },
      "source": [
        "<a href=\"https://colab.research.google.com/github/ksnt/i_d_a_o/blob/master/IDAO_1.ipynb\" target=\"_parent\"><img src=\"https://colab.research.google.com/assets/colab-badge.svg\" alt=\"Open In Colab\"/></a>"
      ]
    },
    {
      "metadata": {
        "id": "mzdv-7wEqmEI",
        "colab_type": "code",
        "colab": {}
      },
      "cell_type": "code",
      "source": [
        "# ファイルをアップロードするためのコード\n",
        "# google driveにデータをアップロードしてそれを読み込むのでこれは使わない予定\n",
        "# 実際にはutilsとscoringをアップロードするのに使った\n",
        "\n",
        "#from google.colab import files\n",
        "\n",
        "#files = files.upload()\n",
        "#file_name = list(files.keys())[0]\n",
        "#file_string = files[file_name].decode()\n",
        "\n",
        "#file_string"
      ],
      "execution_count": 0,
      "outputs": []
    },
    {
      "metadata": {
        "id": "7IG6st3z65We",
        "colab_type": "code",
        "colab": {}
      },
      "cell_type": "code",
      "source": [
        "import os\n",
        "import pandas as pd\n",
        "import xgboost\n",
        "import utils\n",
        "import scoring\n",
        "from sklearn.model_selection import train_test_split"
      ],
      "execution_count": 0,
      "outputs": []
    },
    {
      "metadata": {
        "id": "W2iThWHAqmyt",
        "colab_type": "code",
        "colab": {}
      },
      "cell_type": "code",
      "source": [
        "!pip install -U -q PyDrive\n",
        "\n",
        "from pydrive.auth import GoogleAuth\n",
        "from pydrive.drive import GoogleDrive\n",
        "from google.colab import auth\n",
        "from oauth2client.client import GoogleCredentials\n",
        "\n",
        "auth.authenticate_user()\n",
        "gauth = GoogleAuth()\n",
        "gauth.credentials = GoogleCredentials.get_application_default()\n",
        "drive = GoogleDrive(gauth)"
      ],
      "execution_count": 0,
      "outputs": []
    },
    {
      "metadata": {
        "id": "kAvSoJkUqmuO",
        "colab_type": "code",
        "outputId": "ca43b370-483b-443e-fbd3-5c54e108d6c4",
        "colab": {
          "base_uri": "https://localhost:8080/",
          "height": 68
        }
      },
      "cell_type": "code",
      "source": [
        "dir_id = \"1dQG1wjqdpxCyb8cK8MwzglEW8n9E4oRU\"\n",
        "file_list = drive.ListFile({'q': \"'%s' in parents and trashed=false\" % dir_id}).GetList()\n",
        "for f in file_list:\n",
        "  print(\"name: \" + f[\"title\"] + \", id: \" + f[\"id\"])\n"
      ],
      "execution_count": 4,
      "outputs": [
        {
          "output_type": "stream",
          "text": [
            "name: train_part_2.csv.gz, id: 1YHQ1CCPBMwAUjZ3lsHHij67ZoOxJyhTQ\n",
            "name: train_part_1.csv.gz, id: 1vWz3H1r0JjlvMIC9FDCWhvjU54muN6JB\n",
            "name: test_public.csv.gz, id: 1UBRB-QkjRq00C--4zWK7cEvWiB-GVbNl\n"
          ],
          "name": "stdout"
        }
      ]
    },
    {
      "metadata": {
        "id": "EkWrGFue5Bx7",
        "colab_type": "code",
        "colab": {}
      },
      "cell_type": "code",
      "source": [
        "# 上記の方法で調べたファイルのID\n",
        "file_id = \"1vWz3H1r0JjlvMIC9FDCWhvjU54muN6JB\"\n",
        "drive_file = drive.CreateFile({'id': file_id})\n",
        "\n",
        "# ファイルの取得\n",
        "drive_file.GetContentFile(\"train_part_1.csv.gz\")"
      ],
      "execution_count": 0,
      "outputs": []
    },
    {
      "metadata": {
        "id": "hBrs1rC26flY",
        "colab_type": "code",
        "colab": {}
      },
      "cell_type": "code",
      "source": [
        "# 上記の方法で調べたファイルのID\n",
        "file_id = \"1YHQ1CCPBMwAUjZ3lsHHij67ZoOxJyhTQ\"\n",
        "drive_file = drive.CreateFile({'id': file_id})\n",
        "\n",
        "# ファイルの取得\n",
        "drive_file.GetContentFile(\"train_part_2.csv.gz\")"
      ],
      "execution_count": 0,
      "outputs": []
    },
    {
      "metadata": {
        "id": "KSt1Bd_H6fh8",
        "colab_type": "code",
        "colab": {}
      },
      "cell_type": "code",
      "source": [
        "# 上記の方法で調べたファイルのID\n",
        "file_id = \"1UBRB-QkjRq00C--4zWK7cEvWiB-GVbNl\"\n",
        "drive_file = drive.CreateFile({'id': file_id})\n",
        "\n",
        "# ファイルの取得\n",
        "drive_file.GetContentFile(\"test_public.csv.gz\")"
      ],
      "execution_count": 0,
      "outputs": []
    },
    {
      "metadata": {
        "id": "1MPFtRFX5Bvw",
        "colab_type": "code",
        "colab": {}
      },
      "cell_type": "code",
      "source": [
        "DATA_PATH = \"./\""
      ],
      "execution_count": 0,
      "outputs": []
    },
    {
      "metadata": {
        "id": "f_V48GlS5BrY",
        "colab_type": "code",
        "colab": {
          "base_uri": "https://localhost:8080/",
          "height": 71
        },
        "outputId": "f9702b37-215d-489c-9dda-0089e1c571ef"
      },
      "cell_type": "code",
      "source": [
        "train, test = utils.load_data_csv(\n",
        "    DATA_PATH, utils.SIMPLE_FEATURE_COLUMNS)"
      ],
      "execution_count": 9,
      "outputs": [
        {
          "output_type": "stream",
          "text": [
            "/usr/local/lib/python3.6/dist-packages/numpy/lib/arraysetops.py:472: FutureWarning: elementwise comparison failed; returning scalar instead, but in the future will perform elementwise comparison\n",
            "  mask |= (ar1 == a)\n"
          ],
          "name": "stderr"
        }
      ]
    },
    {
      "metadata": {
        "id": "my-p2lkW8bmB",
        "colab_type": "code",
        "colab": {
          "base_uri": "https://localhost:8080/",
          "height": 253
        },
        "outputId": "620d87d0-f428-44e6-bb6d-8b1940aae86a"
      },
      "cell_type": "code",
      "source": [
        "train.head()"
      ],
      "execution_count": 10,
      "outputs": [
        {
          "output_type": "execute_result",
          "data": {
            "text/html": [
              "<div>\n",
              "<style scoped>\n",
              "    .dataframe tbody tr th:only-of-type {\n",
              "        vertical-align: middle;\n",
              "    }\n",
              "\n",
              "    .dataframe tbody tr th {\n",
              "        vertical-align: top;\n",
              "    }\n",
              "\n",
              "    .dataframe thead th {\n",
              "        text-align: right;\n",
              "    }\n",
              "</style>\n",
              "<table border=\"1\" class=\"dataframe\">\n",
              "  <thead>\n",
              "    <tr style=\"text-align: right;\">\n",
              "      <th></th>\n",
              "      <th>ncl[0]</th>\n",
              "      <th>ncl[1]</th>\n",
              "      <th>ncl[2]</th>\n",
              "      <th>ncl[3]</th>\n",
              "      <th>avg_cs[0]</th>\n",
              "      <th>avg_cs[1]</th>\n",
              "      <th>avg_cs[2]</th>\n",
              "      <th>avg_cs[3]</th>\n",
              "      <th>ndof</th>\n",
              "      <th>MatchedHit_TYPE[0]</th>\n",
              "      <th>...</th>\n",
              "      <th>Mextra_DX2[3]</th>\n",
              "      <th>Mextra_DY2[0]</th>\n",
              "      <th>Mextra_DY2[1]</th>\n",
              "      <th>Mextra_DY2[2]</th>\n",
              "      <th>Mextra_DY2[3]</th>\n",
              "      <th>FOI_hits_N</th>\n",
              "      <th>PT</th>\n",
              "      <th>P</th>\n",
              "      <th>label</th>\n",
              "      <th>weight</th>\n",
              "    </tr>\n",
              "  </thead>\n",
              "  <tbody>\n",
              "    <tr>\n",
              "      <th>0</th>\n",
              "      <td>47</td>\n",
              "      <td>31</td>\n",
              "      <td>13</td>\n",
              "      <td>15</td>\n",
              "      <td>2.000000</td>\n",
              "      <td>1.580645</td>\n",
              "      <td>1.153846</td>\n",
              "      <td>1.133333</td>\n",
              "      <td>8</td>\n",
              "      <td>2</td>\n",
              "      <td>...</td>\n",
              "      <td>4295.08540</td>\n",
              "      <td>333.436300</td>\n",
              "      <td>951.68540</td>\n",
              "      <td>2125.09990</td>\n",
              "      <td>4145.18160</td>\n",
              "      <td>6</td>\n",
              "      <td>1764.925899</td>\n",
              "      <td>12646.817591</td>\n",
              "      <td>1</td>\n",
              "      <td>2.226325</td>\n",
              "    </tr>\n",
              "    <tr>\n",
              "      <th>1</th>\n",
              "      <td>92</td>\n",
              "      <td>19</td>\n",
              "      <td>11</td>\n",
              "      <td>26</td>\n",
              "      <td>2.750000</td>\n",
              "      <td>2.789474</td>\n",
              "      <td>1.363636</td>\n",
              "      <td>1.230769</td>\n",
              "      <td>8</td>\n",
              "      <td>2</td>\n",
              "      <td>...</td>\n",
              "      <td>777.42914</td>\n",
              "      <td>64.267190</td>\n",
              "      <td>185.53355</td>\n",
              "      <td>413.95690</td>\n",
              "      <td>793.56604</td>\n",
              "      <td>4</td>\n",
              "      <td>4511.281266</td>\n",
              "      <td>28556.630027</td>\n",
              "      <td>1</td>\n",
              "      <td>2.127109</td>\n",
              "    </tr>\n",
              "    <tr>\n",
              "      <th>2</th>\n",
              "      <td>100</td>\n",
              "      <td>21</td>\n",
              "      <td>11</td>\n",
              "      <td>12</td>\n",
              "      <td>2.930000</td>\n",
              "      <td>2.428571</td>\n",
              "      <td>1.181818</td>\n",
              "      <td>1.083333</td>\n",
              "      <td>8</td>\n",
              "      <td>2</td>\n",
              "      <td>...</td>\n",
              "      <td>1931.48400</td>\n",
              "      <td>159.182330</td>\n",
              "      <td>440.46994</td>\n",
              "      <td>979.69520</td>\n",
              "      <td>1899.83920</td>\n",
              "      <td>9</td>\n",
              "      <td>1062.550086</td>\n",
              "      <td>17491.702634</td>\n",
              "      <td>1</td>\n",
              "      <td>4.305235</td>\n",
              "    </tr>\n",
              "    <tr>\n",
              "      <th>3</th>\n",
              "      <td>74</td>\n",
              "      <td>27</td>\n",
              "      <td>13</td>\n",
              "      <td>20</td>\n",
              "      <td>3.067568</td>\n",
              "      <td>2.518518</td>\n",
              "      <td>1.923077</td>\n",
              "      <td>1.300000</td>\n",
              "      <td>8</td>\n",
              "      <td>2</td>\n",
              "      <td>...</td>\n",
              "      <td>443.21832</td>\n",
              "      <td>36.024845</td>\n",
              "      <td>103.41968</td>\n",
              "      <td>229.75415</td>\n",
              "      <td>438.86194</td>\n",
              "      <td>5</td>\n",
              "      <td>4991.074825</td>\n",
              "      <td>37192.868559</td>\n",
              "      <td>1</td>\n",
              "      <td>1.605583</td>\n",
              "    </tr>\n",
              "    <tr>\n",
              "      <th>4</th>\n",
              "      <td>18</td>\n",
              "      <td>22</td>\n",
              "      <td>8</td>\n",
              "      <td>8</td>\n",
              "      <td>1.833333</td>\n",
              "      <td>1.954546</td>\n",
              "      <td>1.125000</td>\n",
              "      <td>1.750000</td>\n",
              "      <td>8</td>\n",
              "      <td>2</td>\n",
              "      <td>...</td>\n",
              "      <td>2430.53470</td>\n",
              "      <td>190.557480</td>\n",
              "      <td>551.34094</td>\n",
              "      <td>1240.64840</td>\n",
              "      <td>2402.91920</td>\n",
              "      <td>6</td>\n",
              "      <td>1347.704888</td>\n",
              "      <td>16688.746174</td>\n",
              "      <td>1</td>\n",
              "      <td>2.055900</td>\n",
              "    </tr>\n",
              "  </tbody>\n",
              "</table>\n",
              "<p>5 rows × 67 columns</p>\n",
              "</div>"
            ],
            "text/plain": [
              "   ncl[0]  ncl[1]  ncl[2]  ncl[3]  avg_cs[0]  avg_cs[1]  avg_cs[2]  avg_cs[3]  \\\n",
              "0      47      31      13      15   2.000000   1.580645   1.153846   1.133333   \n",
              "1      92      19      11      26   2.750000   2.789474   1.363636   1.230769   \n",
              "2     100      21      11      12   2.930000   2.428571   1.181818   1.083333   \n",
              "3      74      27      13      20   3.067568   2.518518   1.923077   1.300000   \n",
              "4      18      22       8       8   1.833333   1.954546   1.125000   1.750000   \n",
              "\n",
              "   ndof  MatchedHit_TYPE[0]    ...     Mextra_DX2[3]  Mextra_DY2[0]  \\\n",
              "0     8                   2    ...        4295.08540     333.436300   \n",
              "1     8                   2    ...         777.42914      64.267190   \n",
              "2     8                   2    ...        1931.48400     159.182330   \n",
              "3     8                   2    ...         443.21832      36.024845   \n",
              "4     8                   2    ...        2430.53470     190.557480   \n",
              "\n",
              "   Mextra_DY2[1]  Mextra_DY2[2]  Mextra_DY2[3]  FOI_hits_N           PT  \\\n",
              "0      951.68540     2125.09990     4145.18160           6  1764.925899   \n",
              "1      185.53355      413.95690      793.56604           4  4511.281266   \n",
              "2      440.46994      979.69520     1899.83920           9  1062.550086   \n",
              "3      103.41968      229.75415      438.86194           5  4991.074825   \n",
              "4      551.34094     1240.64840     2402.91920           6  1347.704888   \n",
              "\n",
              "              P  label    weight  \n",
              "0  12646.817591      1  2.226325  \n",
              "1  28556.630027      1  2.127109  \n",
              "2  17491.702634      1  4.305235  \n",
              "3  37192.868559      1  1.605583  \n",
              "4  16688.746174      1  2.055900  \n",
              "\n",
              "[5 rows x 67 columns]"
            ]
          },
          "metadata": {
            "tags": []
          },
          "execution_count": 10
        }
      ]
    },
    {
      "metadata": {
        "id": "fAZGHxFn8biJ",
        "colab_type": "code",
        "colab": {
          "base_uri": "https://localhost:8080/",
          "height": 284
        },
        "outputId": "889c4a6b-b4ec-461f-b995-d597e350a9df"
      },
      "cell_type": "code",
      "source": [
        "test.head()"
      ],
      "execution_count": 5,
      "outputs": [
        {
          "output_type": "execute_result",
          "data": {
            "text/html": [
              "<div>\n",
              "<style scoped>\n",
              "    .dataframe tbody tr th:only-of-type {\n",
              "        vertical-align: middle;\n",
              "    }\n",
              "\n",
              "    .dataframe tbody tr th {\n",
              "        vertical-align: top;\n",
              "    }\n",
              "\n",
              "    .dataframe thead th {\n",
              "        text-align: right;\n",
              "    }\n",
              "</style>\n",
              "<table border=\"1\" class=\"dataframe\">\n",
              "  <thead>\n",
              "    <tr style=\"text-align: right;\">\n",
              "      <th></th>\n",
              "      <th>ncl[0]</th>\n",
              "      <th>ncl[1]</th>\n",
              "      <th>ncl[2]</th>\n",
              "      <th>ncl[3]</th>\n",
              "      <th>avg_cs[0]</th>\n",
              "      <th>avg_cs[1]</th>\n",
              "      <th>avg_cs[2]</th>\n",
              "      <th>avg_cs[3]</th>\n",
              "      <th>ndof</th>\n",
              "      <th>MatchedHit_TYPE[0]</th>\n",
              "      <th>...</th>\n",
              "      <th>Mextra_DX2[1]</th>\n",
              "      <th>Mextra_DX2[2]</th>\n",
              "      <th>Mextra_DX2[3]</th>\n",
              "      <th>Mextra_DY2[0]</th>\n",
              "      <th>Mextra_DY2[1]</th>\n",
              "      <th>Mextra_DY2[2]</th>\n",
              "      <th>Mextra_DY2[3]</th>\n",
              "      <th>FOI_hits_N</th>\n",
              "      <th>PT</th>\n",
              "      <th>P</th>\n",
              "    </tr>\n",
              "    <tr>\n",
              "      <th>id</th>\n",
              "      <th></th>\n",
              "      <th></th>\n",
              "      <th></th>\n",
              "      <th></th>\n",
              "      <th></th>\n",
              "      <th></th>\n",
              "      <th></th>\n",
              "      <th></th>\n",
              "      <th></th>\n",
              "      <th></th>\n",
              "      <th></th>\n",
              "      <th></th>\n",
              "      <th></th>\n",
              "      <th></th>\n",
              "      <th></th>\n",
              "      <th></th>\n",
              "      <th></th>\n",
              "      <th></th>\n",
              "      <th></th>\n",
              "      <th></th>\n",
              "      <th></th>\n",
              "    </tr>\n",
              "  </thead>\n",
              "  <tbody>\n",
              "    <tr>\n",
              "      <th>0</th>\n",
              "      <td>55</td>\n",
              "      <td>12</td>\n",
              "      <td>10</td>\n",
              "      <td>15</td>\n",
              "      <td>2.127273</td>\n",
              "      <td>1.166667</td>\n",
              "      <td>1.500000</td>\n",
              "      <td>1.600000</td>\n",
              "      <td>8</td>\n",
              "      <td>2</td>\n",
              "      <td>...</td>\n",
              "      <td>3431.287800</td>\n",
              "      <td>7550.342300</td>\n",
              "      <td>14739.10600</td>\n",
              "      <td>1210.756600</td>\n",
              "      <td>3462.087200</td>\n",
              "      <td>7618.11100</td>\n",
              "      <td>14871.39550</td>\n",
              "      <td>6</td>\n",
              "      <td>1174.484530</td>\n",
              "      <td>6884.502272</td>\n",
              "    </tr>\n",
              "    <tr>\n",
              "      <th>1</th>\n",
              "      <td>43</td>\n",
              "      <td>18</td>\n",
              "      <td>12</td>\n",
              "      <td>15</td>\n",
              "      <td>2.697674</td>\n",
              "      <td>1.111111</td>\n",
              "      <td>1.333333</td>\n",
              "      <td>1.600000</td>\n",
              "      <td>8</td>\n",
              "      <td>2</td>\n",
              "      <td>...</td>\n",
              "      <td>63.777058</td>\n",
              "      <td>140.748630</td>\n",
              "      <td>266.41522</td>\n",
              "      <td>21.983400</td>\n",
              "      <td>63.552402</td>\n",
              "      <td>140.25285</td>\n",
              "      <td>265.47680</td>\n",
              "      <td>7</td>\n",
              "      <td>4344.639775</td>\n",
              "      <td>48769.526891</td>\n",
              "    </tr>\n",
              "    <tr>\n",
              "      <th>2</th>\n",
              "      <td>90</td>\n",
              "      <td>34</td>\n",
              "      <td>19</td>\n",
              "      <td>29</td>\n",
              "      <td>1.800000</td>\n",
              "      <td>2.058824</td>\n",
              "      <td>1.210526</td>\n",
              "      <td>1.344828</td>\n",
              "      <td>8</td>\n",
              "      <td>2</td>\n",
              "      <td>...</td>\n",
              "      <td>401.787050</td>\n",
              "      <td>903.642400</td>\n",
              "      <td>1749.45590</td>\n",
              "      <td>133.357620</td>\n",
              "      <td>383.406950</td>\n",
              "      <td>862.30440</td>\n",
              "      <td>1669.42520</td>\n",
              "      <td>4</td>\n",
              "      <td>4109.805750</td>\n",
              "      <td>20296.048412</td>\n",
              "    </tr>\n",
              "    <tr>\n",
              "      <th>3</th>\n",
              "      <td>141</td>\n",
              "      <td>43</td>\n",
              "      <td>15</td>\n",
              "      <td>16</td>\n",
              "      <td>4.609929</td>\n",
              "      <td>2.744186</td>\n",
              "      <td>1.466667</td>\n",
              "      <td>1.125000</td>\n",
              "      <td>8</td>\n",
              "      <td>2</td>\n",
              "      <td>...</td>\n",
              "      <td>211.605320</td>\n",
              "      <td>471.151430</td>\n",
              "      <td>900.27890</td>\n",
              "      <td>72.982890</td>\n",
              "      <td>211.607040</td>\n",
              "      <td>471.15527</td>\n",
              "      <td>900.28613</td>\n",
              "      <td>9</td>\n",
              "      <td>940.242439</td>\n",
              "      <td>26062.046122</td>\n",
              "    </tr>\n",
              "    <tr>\n",
              "      <th>4</th>\n",
              "      <td>22</td>\n",
              "      <td>18</td>\n",
              "      <td>8</td>\n",
              "      <td>9</td>\n",
              "      <td>1.636364</td>\n",
              "      <td>2.444444</td>\n",
              "      <td>1.000000</td>\n",
              "      <td>1.555556</td>\n",
              "      <td>8</td>\n",
              "      <td>2</td>\n",
              "      <td>...</td>\n",
              "      <td>39.059680</td>\n",
              "      <td>85.982086</td>\n",
              "      <td>163.04549</td>\n",
              "      <td>13.728162</td>\n",
              "      <td>39.018433</td>\n",
              "      <td>85.89129</td>\n",
              "      <td>162.87330</td>\n",
              "      <td>8</td>\n",
              "      <td>1386.377851</td>\n",
              "      <td>59872.343332</td>\n",
              "    </tr>\n",
              "  </tbody>\n",
              "</table>\n",
              "<p>5 rows × 65 columns</p>\n",
              "</div>"
            ],
            "text/plain": [
              "    ncl[0]  ncl[1]  ncl[2]  ncl[3]  avg_cs[0]  avg_cs[1]  avg_cs[2]  \\\n",
              "id                                                                    \n",
              "0       55      12      10      15   2.127273   1.166667   1.500000   \n",
              "1       43      18      12      15   2.697674   1.111111   1.333333   \n",
              "2       90      34      19      29   1.800000   2.058824   1.210526   \n",
              "3      141      43      15      16   4.609929   2.744186   1.466667   \n",
              "4       22      18       8       9   1.636364   2.444444   1.000000   \n",
              "\n",
              "    avg_cs[3]  ndof  MatchedHit_TYPE[0]      ...       Mextra_DX2[1]  \\\n",
              "id                                           ...                       \n",
              "0    1.600000     8                   2      ...         3431.287800   \n",
              "1    1.600000     8                   2      ...           63.777058   \n",
              "2    1.344828     8                   2      ...          401.787050   \n",
              "3    1.125000     8                   2      ...          211.605320   \n",
              "4    1.555556     8                   2      ...           39.059680   \n",
              "\n",
              "    Mextra_DX2[2]  Mextra_DX2[3]  Mextra_DY2[0]  Mextra_DY2[1]  Mextra_DY2[2]  \\\n",
              "id                                                                              \n",
              "0     7550.342300    14739.10600    1210.756600    3462.087200     7618.11100   \n",
              "1      140.748630      266.41522      21.983400      63.552402      140.25285   \n",
              "2      903.642400     1749.45590     133.357620     383.406950      862.30440   \n",
              "3      471.151430      900.27890      72.982890     211.607040      471.15527   \n",
              "4       85.982086      163.04549      13.728162      39.018433       85.89129   \n",
              "\n",
              "    Mextra_DY2[3]  FOI_hits_N           PT             P  \n",
              "id                                                        \n",
              "0     14871.39550           6  1174.484530   6884.502272  \n",
              "1       265.47680           7  4344.639775  48769.526891  \n",
              "2      1669.42520           4  4109.805750  20296.048412  \n",
              "3       900.28613           9   940.242439  26062.046122  \n",
              "4       162.87330           8  1386.377851  59872.343332  \n",
              "\n",
              "[5 rows x 65 columns]"
            ]
          },
          "metadata": {
            "tags": []
          },
          "execution_count": 5
        }
      ]
    },
    {
      "metadata": {
        "id": "gu_TpgP68bfi",
        "colab_type": "code",
        "colab": {}
      },
      "cell_type": "code",
      "source": [
        "train_part, validation = train_test_split(train, test_size=0.25, shuffle=True)"
      ],
      "execution_count": 0,
      "outputs": []
    },
    {
      "metadata": {
        "id": "xaK_kW7a-ACI",
        "colab_type": "code",
        "colab": {}
      },
      "cell_type": "code",
      "source": [
        "model = xgboost.XGBClassifier(n_jobs=-1)"
      ],
      "execution_count": 0,
      "outputs": []
    },
    {
      "metadata": {
        "id": "ND-3KmlZ-AJf",
        "colab_type": "code",
        "colab": {
          "base_uri": "https://localhost:8080/",
          "height": 182
        },
        "outputId": "230ba8d9-83ad-41cf-91c6-50ae0a06fd62"
      },
      "cell_type": "code",
      "source": [
        "model.fit(train_part.loc[:, utils.SIMPLE_FEATURE_COLUMNS].values, train_part.label.values, sample_weight=train_part.weight.values)"
      ],
      "execution_count": 1,
      "outputs": [
        {
          "output_type": "error",
          "ename": "NameError",
          "evalue": "ignored",
          "traceback": [
            "\u001b[0;31m---------------------------------------------------------------------------\u001b[0m",
            "\u001b[0;31mNameError\u001b[0m                                 Traceback (most recent call last)",
            "\u001b[0;32m<ipython-input-1-9c7ec75157bd>\u001b[0m in \u001b[0;36m<module>\u001b[0;34m()\u001b[0m\n\u001b[0;32m----> 1\u001b[0;31m \u001b[0mmodel\u001b[0m\u001b[0;34m.\u001b[0m\u001b[0mfit\u001b[0m\u001b[0;34m(\u001b[0m\u001b[0mtrain_part\u001b[0m\u001b[0;34m.\u001b[0m\u001b[0mloc\u001b[0m\u001b[0;34m[\u001b[0m\u001b[0;34m:\u001b[0m\u001b[0;34m,\u001b[0m \u001b[0mutils\u001b[0m\u001b[0;34m.\u001b[0m\u001b[0mSIMPLE_FEATURE_COLUMNS\u001b[0m\u001b[0;34m]\u001b[0m\u001b[0;34m.\u001b[0m\u001b[0mvalues\u001b[0m\u001b[0;34m,\u001b[0m \u001b[0mtrain_part\u001b[0m\u001b[0;34m.\u001b[0m\u001b[0mlabel\u001b[0m\u001b[0;34m.\u001b[0m\u001b[0mvalues\u001b[0m\u001b[0;34m,\u001b[0m \u001b[0msample_weight\u001b[0m\u001b[0;34m=\u001b[0m\u001b[0mtrain_part\u001b[0m\u001b[0;34m.\u001b[0m\u001b[0mweight\u001b[0m\u001b[0;34m.\u001b[0m\u001b[0mvalues\u001b[0m\u001b[0;34m)\u001b[0m\u001b[0;34m\u001b[0m\u001b[0;34m\u001b[0m\u001b[0m\n\u001b[0m",
            "\u001b[0;31mNameError\u001b[0m: name 'model' is not defined"
          ]
        }
      ]
    },
    {
      "metadata": {
        "id": "76mjdo5v-HFm",
        "colab_type": "code",
        "colab": {}
      },
      "cell_type": "code",
      "source": [
        ""
      ],
      "execution_count": 0,
      "outputs": []
    },
    {
      "metadata": {
        "id": "nT8m6juO-Ae4",
        "colab_type": "code",
        "colab": {}
      },
      "cell_type": "code",
      "source": [
        ""
      ],
      "execution_count": 0,
      "outputs": []
    },
    {
      "metadata": {
        "id": "18t-WhJL-AaL",
        "colab_type": "code",
        "colab": {}
      },
      "cell_type": "code",
      "source": [
        ""
      ],
      "execution_count": 0,
      "outputs": []
    },
    {
      "metadata": {
        "id": "lHCBHzRZ-AWG",
        "colab_type": "code",
        "colab": {}
      },
      "cell_type": "code",
      "source": [
        ""
      ],
      "execution_count": 0,
      "outputs": []
    },
    {
      "metadata": {
        "id": "HY83JDmp-ASN",
        "colab_type": "code",
        "colab": {}
      },
      "cell_type": "code",
      "source": [
        ""
      ],
      "execution_count": 0,
      "outputs": []
    }
  ]
}